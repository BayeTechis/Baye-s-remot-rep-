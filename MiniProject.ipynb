{
  "nbformat": 4,
  "nbformat_minor": 0,
  "metadata": {
    "colab": {
      "name": "MiniProject.ipynb",
      "provenance": [],
      "authorship_tag": "ABX9TyPOQc0zSDBTzGybk5kXGvUu",
      "include_colab_link": true
    },
    "kernelspec": {
      "name": "python3",
      "display_name": "Python 3"
    },
    "language_info": {
      "name": "python"
    }
  },
  "cells": [
    {
      "cell_type": "markdown",
      "metadata": {
        "id": "view-in-github",
        "colab_type": "text"
      },
      "source": [
        "<a href=\"https://colab.research.google.com/github/BayeTechis/Baye-s-remot-rep-/blob/master/MiniProject.ipynb\" target=\"_parent\"><img src=\"https://colab.research.google.com/assets/colab-badge.svg\" alt=\"Open In Colab\"/></a>"
      ]
    },
    {
      "cell_type": "markdown",
      "source": [
        "**Mini Project**\n",
        "\n",
        "\n",
        "\n",
        "\n",
        "By: Baye Asmamaw\n",
        "\n",
        "\n",
        "id: baymusbet@gmail.com\n"
      ],
      "metadata": {
        "id": "f2I-YmyBChII"
      }
    },
    {
      "cell_type": "markdown",
      "source": [
        "**Read data**"
      ],
      "metadata": {
        "id": "dxggorcaC_vM"
      }
    },
    {
      "cell_type": "code",
      "source": [
        "from google.colab import drive\n",
        "drive.mount('/content/drive')"
      ],
      "metadata": {
        "colab": {
          "base_uri": "https://localhost:8080/"
        },
        "id": "c7CE23dME2Mu",
        "outputId": "8650197e-e8c3-4496-e8b5-50dac127039b"
      },
      "execution_count": 1,
      "outputs": [
        {
          "output_type": "stream",
          "name": "stdout",
          "text": [
            "Mounted at /content/drive\n"
          ]
        }
      ]
    },
    {
      "cell_type": "code",
      "source": [
        "import numpy as np\n",
        "\n",
        "data = np.genfromtxt(\"/content/drive/MyDrive/Colab Notebooks/makeSenseOfCensus.csv\", delimiter =\",\", skip_header=1)\n",
        "print(\"\\nType of data: \\n\\n\", data)"
      ],
      "metadata": {
        "id": "GKjXC7CvGXmv"
      },
      "execution_count": null,
      "outputs": []
    },
    {
      "cell_type": "code",
      "source": [
        "print(\"\\nType of data: \\n\\n\", type(data))\n",
        "print(data.shape)"
      ],
      "metadata": {
        "id": "aTZeFXahnAnK"
      },
      "execution_count": null,
      "outputs": []
    },
    {
      "cell_type": "markdown",
      "source": [
        "**Append data**"
      ],
      "metadata": {
        "id": "AOQ8ZpZFDIdw"
      }
    },
    {
      "cell_type": "code",
      "source": [
        "new_record = np.array([50,9,4,1,0,0,40,0])\n",
        "data = np.vstack([data,new_record])\n"
      ],
      "metadata": {
        "id": "vWF5bcTsnMG6"
      },
      "execution_count": 5,
      "outputs": []
    },
    {
      "cell_type": "markdown",
      "source": [
        "**Check if it's a young country or old**"
      ],
      "metadata": {
        "id": "eQwu7e1xD0hD"
      }
    },
    {
      "cell_type": "code",
      "source": [
        "age = data[:,0]\n",
        "max_age = int(max(data[:,0]))\n",
        "min_age = int(min(data[:,0]))\n",
        "age_mean = int(np.mean(data[:,0]))\n",
        "age_std = np.std(data[:,0])\n",
        "print(\"---------------------------------------------------\")\n",
        "#print(\"The age array:\", age)\n",
        "print(\"Minimum age: \", min_age)\n",
        "print(\"Maximum age: \", max_age)\n",
        "print(\"The mean of the ages: \", age_mean)\n",
        "print(\"The standard deviation is: \", age_std)\n",
        "print(\"--------------------------------------------------\")\n",
        "\n",
        "if (age_mean + age_std) < 60:\n",
        "  print(\"The country is young!\")\n",
        "else:\n",
        "  print(\"The country is old\")"
      ],
      "metadata": {
        "id": "6yw7mccGEJXT",
        "colab": {
          "base_uri": "https://localhost:8080/"
        },
        "outputId": "365ee153-3545-4699-b887-3e793559e2d0"
      },
      "execution_count": 10,
      "outputs": [
        {
          "output_type": "stream",
          "name": "stdout",
          "text": [
            "---------------------------------------------------\n",
            "Minimum age:  17\n",
            "Maximum age:  90\n",
            "The mean of the ages:  38\n",
            "The standard deviation is:  13.342803266180612\n",
            "--------------------------------------------------\n",
            "The country is young!\n"
          ]
        }
      ]
    },
    {
      "cell_type": "markdown",
      "source": [
        "**Check the country's race distribution and identify minorities**"
      ],
      "metadata": {
        "id": "xYLfuTvDD5Xd"
      }
    },
    {
      "cell_type": "code",
      "source": [
        "race = data[:,2]\n",
        "race_0 = race[race==0]\n",
        "a = int(len(race_0))\n",
        "print(\"---------------------------------------------------\")\n",
        "print(\"Total number of Amer-Indian-Eskimos:\", len(race_0))\n",
        "print(\"---------------------------------------------------\")\n",
        "\n",
        "race_1 = race[race==1]\n",
        "b = int(len(race_1))\n",
        "print(\"---------------------------------------------------\")\n",
        "print(\"Total number of Asian-Pac-Islanders:\", len(race_1))\n",
        "\n",
        "race_2 = race[race==2]\n",
        "c = int(len(race_2))\n",
        "print(\"---------------------------------------------------\")\n",
        "print(\"Total number of Blacks:\", len(race_2))\n",
        "\n",
        "race_4 = race[race==4]\n",
        "d = int(len(race_4))\n",
        "print(\"---------------------------------------------------\")\n",
        "print(\"Total number of Whites:\", len(race_4))\n",
        "\n",
        "race_3 = race[race==3]\n",
        "e = int(len(race_3))\n",
        "print(\"---------------------------------------------------\")\n",
        "print(\"Total number of Others:\", len(race_3))\n",
        "\n",
        "distribution_coefficent = np.array([a,b,c,d,e])\n",
        "minority = min(distribution_coefficent)\n",
        "print(\"---------------------------------------------------\")\n",
        "print(\"The minority race has a total population of \", minority)\n"
      ],
      "metadata": {
        "id": "Em0GptM6z5U0"
      },
      "execution_count": null,
      "outputs": []
    },
    {
      "cell_type": "markdown",
      "source": [
        "**Check if government policy is in place**"
      ],
      "metadata": {
        "id": "9PyXT6XlEFa9"
      }
    },
    {
      "cell_type": "code",
      "source": [
        "senior_citizens = age[age>60]\n",
        "senior_citizens_len = len(senior_citizens)\n",
        "print(\"---------------------------------------------------\")\n",
        "print(\"Total number of senoir citizens:\", len(senior_citizens))\n",
        "print(\"---------------------------------------------------\")\n",
        "\n",
        "work_hours = data[:,6]\n",
        "senior_hours= work_hours[age>60]\n",
        "working_hours_sum = sum(senior_hours)\n",
        "print(\"Total senior work hours: \", working_hours_sum)\n",
        "print(\"---------------------------------------------------\")\n",
        "avg_working_hours = working_hours_sum/senior_citizens_len\n",
        "print(\"The average senior working hour is:\", int(avg_working_hours))\n",
        "print(\"---------------------------------------------------\")\n",
        "if avg_working_hours > 25:\n",
        "  print(\"Goverment policy not in place ! ! !\")\n",
        "else:\n",
        "  print(\"Good job! Policy in place!\")"
      ],
      "metadata": {
        "id": "Bygy3rCu_HGa"
      },
      "execution_count": null,
      "outputs": []
    },
    {
      "cell_type": "markdown",
      "source": [
        "**Check if higher education has better pay in general**"
      ],
      "metadata": {
        "id": "KgtcBP85EN1g"
      }
    },
    {
      "cell_type": "code",
      "source": [
        "education = data[:,1]\n",
        "high = education[education > 10]\n",
        "low = education[education <=10]\n",
        "income = data[:,7]\n",
        "total_high_pay = sum(income[education>10])\n",
        "avg_high_pay = total_high_pay / len(high)\n",
        "total_low_pay = sum(income[education<=10])\n",
        "avg_low_pay = total_low_pay/len(low)\n",
        "if avg_high_pay > avg_low_pay:\n",
        "  print(\"Higher educated people have better pay!\")\n",
        "else:\n",
        "  print(\"Education  has no effect on income!\")\n"
      ],
      "metadata": {
        "id": "OGWsueZc2zmM"
      },
      "execution_count": null,
      "outputs": []
    }
  ]
}